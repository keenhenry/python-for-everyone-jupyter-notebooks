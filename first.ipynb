{
 "cells": [
  {
   "cell_type": "markdown",
   "id": "6589ea90",
   "metadata": {},
   "source": [
    "[![Open In Colab](https://colab.research.google.com/assets/colab-badge.svg)](https://colab.research.google.com/github/keenhenry/python-for-everyone-jupyter-notebooks/blob/main/first.ipynb)"
   ]
  },
  {
   "cell_type": "markdown",
   "id": "50f07f66",
   "metadata": {},
   "source": [
    "# This is the first notebook of Python For Everyone (PFE)\n",
    "\n",
    "## 這個輸入欄 （cell） 是 **markdown** 輸入欄，所有的文字都是用 [`markdown`](https://www.markdownguide.org/basic-syntax/) 格式寫的！"
   ]
  },
  {
   "cell_type": "code",
   "execution_count": null,
   "id": "8a33fb1e",
   "metadata": {},
   "outputs": [],
   "source": [
    "# 這是 Python 程式碼的輸入欄！ 這個輸入欄的程式碼可被 Jupyter Notebook 執行！\n",
    "\n",
    "print('Hello!')"
   ]
  }
 ],
 "metadata": {
  "kernelspec": {
   "display_name": ".venv",
   "language": "python",
   "name": "python3"
  },
  "language_info": {
   "codemirror_mode": {
    "name": "ipython",
    "version": 3
   },
   "file_extension": ".py",
   "mimetype": "text/x-python",
   "name": "python",
   "nbconvert_exporter": "python",
   "pygments_lexer": "ipython3",
   "version": "3.12.11"
  }
 },
 "nbformat": 4,
 "nbformat_minor": 5
}
