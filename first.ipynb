{
  "cells": [
    {
      "cell_type": "markdown",
      "metadata": {
        "id": "view-in-github",
        "colab_type": "text"
      },
      "source": [
        "<a href=\"https://colab.research.google.com/github/keenhenry/python-for-everyone-jupyter-notebooks/blob/main/first.ipynb\" target=\"_parent\"><img src=\"https://colab.research.google.com/assets/colab-badge.svg\" alt=\"Open In Colab\"/></a>"
      ]
    },
    {
      "cell_type": "markdown",
      "id": "6589ea90",
      "metadata": {
        "id": "6589ea90"
      },
      "source": [
        "[![Open In Colab](https://colab.research.google.com/assets/colab-badge.svg)](https://colab.research.google.com/github/keenhenry/python-for-everyone-jupyter-notebooks/blob/main/first.ipynb)"
      ]
    },
    {
      "cell_type": "markdown",
      "id": "50f07f66",
      "metadata": {
        "id": "50f07f66"
      },
      "source": [
        "# This is the first notebook of Python For Everyone (PFE)\n",
        "\n",
        "## 這個輸入欄 （cell） 是 **markdown** 輸入欄，所有的文字都是用 [`markdown`](https://www.markdownguide.org/basic-syntax/) 格式寫的！"
      ]
    },
    {
      "cell_type": "code",
      "execution_count": null,
      "id": "8a33fb1e",
      "metadata": {
        "id": "8a33fb1e"
      },
      "outputs": [],
      "source": [
        "# 這是 Python 程式碼的輸入欄！ 這個輸入欄的程式碼可被 Jupyter Notebook 執行！\n",
        "\n",
        "print('Hello!')"
      ]
    },
    {
      "cell_type": "markdown",
      "id": "5ec6f338",
      "metadata": {
        "id": "5ec6f338"
      },
      "source": [
        "## I. How to find `help` documentation (如何找到程式碼的說明字串)？"
      ]
    },
    {
      "cell_type": "code",
      "execution_count": null,
      "id": "669f44dd",
      "metadata": {
        "id": "669f44dd"
      },
      "outputs": [],
      "source": [
        "# 這是 Python 函數的定義語法，由關鍵字 `def` 開始！\n",
        "def count_elements(lst: list) -> int:\n",
        "    '''Count how many elements in a list'''\n",
        "\n",
        "    count = 0\n",
        "\n",
        "    for _ in lst:\n",
        "        count += 1\n",
        "\n",
        "    return count"
      ]
    },
    {
      "cell_type": "markdown",
      "id": "a2413e70",
      "metadata": {
        "id": "a2413e70"
      },
      "source": [
        "## II. How to find the source code of a function/module/object (如何找到一個物件的原始碼)?"
      ]
    },
    {
      "cell_type": "markdown",
      "id": "873c4910",
      "metadata": {
        "id": "873c4910"
      },
      "source": [
        "## III. Introducing `magic` commands"
      ]
    },
    {
      "cell_type": "markdown",
      "id": "6d0b76c6",
      "metadata": {
        "id": "6d0b76c6"
      },
      "source": [
        "## IV. How to **edit** and **run** a file in cells (如何在 Jupyter Notebook 中編輯檔案、執行程式碼)?"
      ]
    },
    {
      "cell_type": "markdown",
      "id": "60fd2329",
      "metadata": {
        "id": "60fd2329"
      },
      "source": [
        "## V. How to run Shell commands in Jupyter Notebook (如何在 Jupyter Notebook 中執行 Shell 指令)?\n",
        "### And, introducing `automagic` commands"
      ]
    },
    {
      "cell_type": "markdown",
      "id": "865d6ce6",
      "metadata": {
        "id": "865d6ce6"
      },
      "source": [
        "## VI. How to upgrade/change the default Python version in Google Colab (如何改變 Notebook 中預設的 Python 版本)?"
      ]
    },
    {
      "cell_type": "code",
      "source": [
        "!python --version"
      ],
      "metadata": {
        "id": "-iNCFukgIKWr"
      },
      "id": "-iNCFukgIKWr",
      "execution_count": null,
      "outputs": []
    },
    {
      "cell_type": "code",
      "execution_count": null,
      "id": "4eb14639",
      "metadata": {
        "id": "4eb14639"
      },
      "outputs": [],
      "source": [
        "# First install Python 3.12 packages\n",
        "!sudo apt update -y\n",
        "!sudo apt install python3.12 python3.12-dev libpython3.12-dev python3.12-venv\n",
        "\n",
        "# Then update default python version to use python 3.12\n",
        "!sudo update-alternatives --install /usr/bin/python3 python3 /usr/bin/python3.11 1\n",
        "!sudo update-alternatives --install /usr/bin/python3 python3 /usr/bin/python3.12 2"
      ]
    },
    {
      "cell_type": "code",
      "source": [
        "!python --version"
      ],
      "metadata": {
        "id": "qLlbrrqXI8lC"
      },
      "id": "qLlbrrqXI8lC",
      "execution_count": null,
      "outputs": []
    },
    {
      "cell_type": "markdown",
      "id": "f6a58190",
      "metadata": {
        "id": "f6a58190"
      },
      "source": [
        "## VII. How to save the work in Jupyter Notebook and make a copy of your own (如何儲存 notebook 中的改變並擁有自己的一份版本)?"
      ]
    },
    {
      "cell_type": "markdown",
      "id": "86c7827b",
      "metadata": {
        "id": "86c7827b"
      },
      "source": []
    }
  ],
  "metadata": {
    "kernelspec": {
      "display_name": ".venv",
      "language": "python",
      "name": "python3"
    },
    "language_info": {
      "codemirror_mode": {
        "name": "ipython",
        "version": 3
      },
      "file_extension": ".py",
      "mimetype": "text/x-python",
      "name": "python",
      "nbconvert_exporter": "python",
      "pygments_lexer": "ipython3",
      "version": "3.12.11"
    },
    "colab": {
      "provenance": [],
      "include_colab_link": true
    }
  },
  "nbformat": 4,
  "nbformat_minor": 5
}