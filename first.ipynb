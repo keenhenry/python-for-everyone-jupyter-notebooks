{
 "cells": [
  {
   "cell_type": "markdown",
   "id": "6589ea90",
   "metadata": {},
   "source": [
    "[![Open In Colab](https://colab.research.google.com/assets/colab-badge.svg)](https://colab.research.google.com/github/keenhenry/python-for-everyone-jupyter-notebooks/blob/main/first.ipynb)"
   ]
  },
  {
   "cell_type": "markdown",
   "id": "50f07f66",
   "metadata": {},
   "source": [
    "# This is the first notebook of Python For Everyone (PFE)\n",
    "\n",
    "## 這個輸入欄 （cell） 是 **markdown** 輸入欄，所有的文字都是用 [`markdown`](https://www.markdownguide.org/basic-syntax/) 格式寫的！"
   ]
  },
  {
   "cell_type": "code",
   "execution_count": null,
   "id": "8a33fb1e",
   "metadata": {},
   "outputs": [],
   "source": [
    "# 這是 Python 程式碼的輸入欄！ 這個輸入欄的程式碼可被 Jupyter Notebook 執行！\n",
    "\n",
    "print('Hello!')"
   ]
  },
  {
   "cell_type": "markdown",
   "id": "5ec6f338",
   "metadata": {},
   "source": [
    "## I. How to find `help` documentation (如何找到程式碼的說明字串)？"
   ]
  },
  {
   "cell_type": "code",
   "execution_count": 2,
   "id": "669f44dd",
   "metadata": {},
   "outputs": [],
   "source": [
    "# 這是 Python 函數的定義語法，由關鍵字 `def` 開始！\n",
    "def count_elements(lst: list) -> int:\n",
    "    '''Count how many elements in a list'''\n",
    "\n",
    "    count = 0\n",
    "\n",
    "    for _ in lst:\n",
    "        count += 1\n",
    "\n",
    "    return count"
   ]
  },
  {
   "cell_type": "markdown",
   "id": "a2413e70",
   "metadata": {},
   "source": [
    "## II. How to find the source code of a function/module/object (如何找到一個物件的原始碼)?"
   ]
  },
  {
   "cell_type": "markdown",
   "id": "873c4910",
   "metadata": {},
   "source": [
    "## III. Introducing `magic` commands"
   ]
  },
  {
   "cell_type": "markdown",
   "id": "6d0b76c6",
   "metadata": {},
   "source": [
    "## IV. How to **edit** and **run** a file in cells (如何在 Jupyter Notebook 中編輯檔案、執行程式碼)?"
   ]
  },
  {
   "cell_type": "markdown",
   "id": "60fd2329",
   "metadata": {},
   "source": [
    "## V. How to run Shell commands in Jupyter Notebook (如何在 Jupyter Notebook 中執行 Shell 指令)?\n",
    "### And, introducing `automagic` commands"
   ]
  },
  {
   "cell_type": "markdown",
   "id": "865d6ce6",
   "metadata": {},
   "source": [
    "## VI. How to upgrade/change the default Python version in Google Colab (如何改變 Notebook 中預設的 Python 版本)?"
   ]
  },
  {
   "cell_type": "markdown",
   "id": "f6a58190",
   "metadata": {},
   "source": [
    "## VII. How to save the work in Jupyter Notebook and make a copy of your own (如何儲存 notebook 中的改變並擁有自己的一份版本)?"
   ]
  },
  {
   "cell_type": "markdown",
   "id": "86c7827b",
   "metadata": {},
   "source": []
  }
 ],
 "metadata": {
  "kernelspec": {
   "display_name": ".venv",
   "language": "python",
   "name": "python3"
  },
  "language_info": {
   "codemirror_mode": {
    "name": "ipython",
    "version": 3
   },
   "file_extension": ".py",
   "mimetype": "text/x-python",
   "name": "python",
   "nbconvert_exporter": "python",
   "pygments_lexer": "ipython3",
   "version": "3.12.11"
  }
 },
 "nbformat": 4,
 "nbformat_minor": 5
}
