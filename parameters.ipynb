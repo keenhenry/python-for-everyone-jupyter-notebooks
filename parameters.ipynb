{
  "cells": [
    {
      "cell_type": "markdown",
      "id": "6589ea90",
      "metadata": {
        "id": "6589ea90"
      },
      "source": [
        "[![Open In Colab](https://colab.research.google.com/assets/colab-badge.svg)](https://colab.research.google.com/github/keenhenry/python-for-everyone-jupyter-notebooks/blob/main/parameters.ipynb)"
      ]
    },
    {
      "cell_type": "markdown",
      "id": "892a6d49",
      "metadata": {},
      "source": [
        "## Function Parameters"
      ]
    },
    {
      "cell_type": "markdown",
      "id": "921d89fc",
      "metadata": {},
      "source": [
        "### `positional-or-keyword`"
      ]
    },
    {
      "cell_type": "code",
      "execution_count": 6,
      "id": "17c19099",
      "metadata": {},
      "outputs": [],
      "source": [
        "def request(method, url, data=None):\n",
        "    '''This is the docstring of a function!'''\n",
        "\n",
        "    print(f'Send {method} request with payload {data} to url {url}')"
      ]
    },
    {
      "cell_type": "markdown",
      "id": "93603594",
      "metadata": {},
      "source": [
        "Parameter `data` is also called 'default' parameter or 'optional' parameter."
      ]
    },
    {
      "cell_type": "code",
      "execution_count": null,
      "id": "25e15394",
      "metadata": {},
      "outputs": [],
      "source": [
        "# Argument for `data` parameter is optional, as you can see in the following function call:\n",
        "request('GET', 'https://somewhere.url')"
      ]
    }
  ],
  "metadata": {
    "colab": {
      "include_colab_link": true,
      "provenance": []
    },
    "kernelspec": {
      "display_name": ".venv",
      "language": "python",
      "name": "python3"
    },
    "language_info": {
      "codemirror_mode": {
        "name": "ipython",
        "version": 3
      },
      "file_extension": ".py",
      "mimetype": "text/x-python",
      "name": "python",
      "nbconvert_exporter": "python",
      "pygments_lexer": "ipython3",
      "version": "3.12.11"
    }
  },
  "nbformat": 4,
  "nbformat_minor": 5
}
