{
  "cells": [
    {
      "cell_type": "markdown",
      "id": "6589ea90",
      "metadata": {
        "id": "6589ea90"
      },
      "source": [
        "[![Open In Colab](https://colab.research.google.com/assets/colab-badge.svg)](https://colab.research.google.com/github/keenhenry/python-for-everyone-jupyter-notebooks/blob/main/parameters.ipynb)"
      ]
    },
    {
      "cell_type": "markdown",
      "id": "892a6d49",
      "metadata": {},
      "source": [
        "## Function Parameters"
      ]
    },
    {
      "cell_type": "markdown",
      "id": "921d89fc",
      "metadata": {},
      "source": [
        "### `positional-or-keyword`"
      ]
    },
    {
      "cell_type": "code",
      "execution_count": 6,
      "id": "17c19099",
      "metadata": {},
      "outputs": [],
      "source": [
        "def request(method, url, data=None):\n",
        "    '''This is the docstring of a function!'''\n",
        "\n",
        "    print(f'Send {method} request with payload {data} to url {url}')"
      ]
    },
    {
      "cell_type": "markdown",
      "id": "93603594",
      "metadata": {},
      "source": [
        "Parameter `data` is also called 'default' parameter or 'optional' parameter."
      ]
    },
    {
      "cell_type": "code",
      "execution_count": null,
      "id": "25e15394",
      "metadata": {},
      "outputs": [],
      "source": [
        "# Argument for `data` parameter is optional, as you can see in the following function call:\n",
        "request('GET', 'https://somewhere.url')"
      ]
    },
    {
      "cell_type": "markdown",
      "id": "2fc83a22",
      "metadata": {},
      "source": [
        "### `positional-only`"
      ]
    },
    {
      "cell_type": "code",
      "execution_count": 11,
      "id": "3119eba7",
      "metadata": {},
      "outputs": [],
      "source": [
        "def request2(method, url, /, json=None, data=None):\n",
        "    '''This is the docstring of `request2`'''\n",
        "\n",
        "    print(f'Send {method} request with json payload {json} and binary payload {data} to url {url}')"
      ]
    },
    {
      "cell_type": "markdown",
      "id": "3fc25afb",
      "metadata": {},
      "source": [
        "- Parameters `method` and `url` in the function's signature of `request2` are **positional-only** parameters!\n",
        "- The symbol `/` is the 'positional-only' marker. It makes all the parameters before it **positional-only** parameters!"
      ]
    },
    {
      "cell_type": "code",
      "execution_count": null,
      "id": "119eeba4",
      "metadata": {},
      "outputs": [],
      "source": [
        "# What will happen with this function call?\n",
        "request2('GET', url='https://something.nl')"
      ]
    },
    {
      "cell_type": "markdown",
      "id": "c367552d",
      "metadata": {},
      "source": [
        "### `keyword-only`"
      ]
    },
    {
      "cell_type": "markdown",
      "id": "04ec481b",
      "metadata": {},
      "source": [
        "### `var-positional`"
      ]
    },
    {
      "cell_type": "markdown",
      "id": "76667bac",
      "metadata": {},
      "source": [
        "### `var-keyword`"
      ]
    },
    {
      "cell_type": "markdown",
      "id": "a6635f29",
      "metadata": {},
      "source": []
    }
  ],
  "metadata": {
    "colab": {
      "include_colab_link": true,
      "provenance": []
    },
    "kernelspec": {
      "display_name": ".venv",
      "language": "python",
      "name": "python3"
    },
    "language_info": {
      "codemirror_mode": {
        "name": "ipython",
        "version": 3
      },
      "file_extension": ".py",
      "mimetype": "text/x-python",
      "name": "python",
      "nbconvert_exporter": "python",
      "pygments_lexer": "ipython3",
      "version": "3.12.11"
    }
  },
  "nbformat": 4,
  "nbformat_minor": 5
}
