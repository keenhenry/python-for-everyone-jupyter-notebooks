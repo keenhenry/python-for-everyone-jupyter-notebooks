{
  "cells": [
    {
      "cell_type": "markdown",
      "id": "6589ea90",
      "metadata": {
        "id": "6589ea90"
      },
      "source": [
        "[![Open In Colab](https://colab.research.google.com/assets/colab-badge.svg)](https://colab.research.google.com/github/keenhenry/python-for-everyone-jupyter-notebooks/blob/main/profiling.ipynb)"
      ]
    },
    {
      "cell_type": "markdown",
      "id": "50f07f66",
      "metadata": {
        "id": "50f07f66"
      },
      "source": [
        "# Profiling `range` and `list` in for loops"
      ]
    },
    {
      "cell_type": "markdown",
      "id": "873c4910",
      "metadata": {
        "id": "873c4910"
      },
      "source": [
        "## Introducing `magic` commands"
      ]
    },
    {
      "cell_type": "markdown",
      "id": "86c7827b",
      "metadata": {
        "id": "86c7827b"
      },
      "source": [
        "There are two types of *magic commands*:\n",
        "\n",
        "- `line magic` 👉 prefixed with a *SINGLE* `%`\n",
        "- `cell magic` 👉 prefixed with a *DOUBLE* `%%`"
      ]
    },
    {
      "cell_type": "code",
      "execution_count": null,
      "id": "7b0c480d",
      "metadata": {},
      "outputs": [],
      "source": [
        "# See all the available magic commands:\n",
        "\n",
        "%lsmagic"
      ]
    },
    {
      "cell_type": "code",
      "execution_count": null,
      "id": "9bf812d7",
      "metadata": {},
      "outputs": [],
      "source": [
        "# Let's check how long it takes (with 'range' object) to run a loop with 10000 iterations:\n",
        "\n",
        "%timeit for i in range(10000): pass"
      ]
    },
    {
      "cell_type": "code",
      "execution_count": null,
      "id": "e36994ff",
      "metadata": {},
      "outputs": [],
      "source": [
        "# And with a list?\n",
        "\n",
        "%timeit for i in list(range(10000)): pass"
      ]
    },
    {
      "cell_type": "markdown",
      "id": "f8ae81ed",
      "metadata": {},
      "source": [
        "#### Use `cell magic` to profile a block of code 👇"
      ]
    },
    {
      "cell_type": "code",
      "execution_count": null,
      "id": "71df9fb3",
      "metadata": {},
      "outputs": [],
      "source": [
        "%%timeit\n",
        "i = 0\n",
        "while i < 10000:\n",
        "    i += 1"
      ]
    },
    {
      "cell_type": "markdown",
      "id": "9f8f4621",
      "metadata": {},
      "source": [
        "## Now let's do memory profiling\n",
        "\n",
        "First we need to install a python tool: `memory-profiler`"
      ]
    },
    {
      "cell_type": "code",
      "execution_count": null,
      "id": "8bf4727b",
      "metadata": {},
      "outputs": [],
      "source": [
        "! pip install memory-profiler"
      ]
    },
    {
      "cell_type": "code",
      "execution_count": null,
      "id": "7bb95794",
      "metadata": {},
      "outputs": [],
      "source": [
        "# Then we need to load the extension of `memory-profiler`\n",
        "%load_ext memory_profiler"
      ]
    },
    {
      "cell_type": "code",
      "execution_count": null,
      "id": "6f0ac22d",
      "metadata": {},
      "outputs": [],
      "source": [
        "%memit for i in range(100000): pass"
      ]
    },
    {
      "cell_type": "code",
      "execution_count": null,
      "id": "daeeb59f",
      "metadata": {},
      "outputs": [],
      "source": [
        "%memit for i in list(range(100000)): pass"
      ]
    }
  ],
  "metadata": {
    "colab": {
      "include_colab_link": true,
      "provenance": []
    },
    "kernelspec": {
      "display_name": ".venv",
      "language": "python",
      "name": "python3"
    },
    "language_info": {
      "codemirror_mode": {
        "name": "ipython",
        "version": 3
      },
      "file_extension": ".py",
      "mimetype": "text/x-python",
      "name": "python",
      "nbconvert_exporter": "python",
      "pygments_lexer": "ipython3",
      "version": "3.12.11"
    }
  },
  "nbformat": 4,
  "nbformat_minor": 5
}
