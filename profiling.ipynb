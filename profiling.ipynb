{
  "cells": [
    {
      "cell_type": "markdown",
      "id": "6589ea90",
      "metadata": {
        "id": "6589ea90"
      },
      "source": [
        "[![Open In Colab](https://colab.research.google.com/assets/colab-badge.svg)](https://colab.research.google.com/github/keenhenry/python-for-everyone-jupyter-notebooks/blob/main/profiling.ipynb)"
      ]
    },
    {
      "cell_type": "markdown",
      "id": "50f07f66",
      "metadata": {
        "id": "50f07f66"
      },
      "source": [
        "# Profiling `range` and `list` in for loops"
      ]
    },
    {
      "cell_type": "markdown",
      "id": "873c4910",
      "metadata": {
        "id": "873c4910"
      },
      "source": [
        "## Introducing `magic` commands"
      ]
    },
    {
      "cell_type": "markdown",
      "id": "86c7827b",
      "metadata": {
        "id": "86c7827b"
      },
      "source": []
    }
  ],
  "metadata": {
    "colab": {
      "include_colab_link": true,
      "provenance": []
    },
    "kernelspec": {
      "display_name": ".venv",
      "language": "python",
      "name": "python3"
    },
    "language_info": {
      "codemirror_mode": {
        "name": "ipython",
        "version": 3
      },
      "file_extension": ".py",
      "mimetype": "text/x-python",
      "name": "python",
      "nbconvert_exporter": "python",
      "pygments_lexer": "ipython3",
      "version": "3.12.11"
    }
  },
  "nbformat": 4,
  "nbformat_minor": 5
}
